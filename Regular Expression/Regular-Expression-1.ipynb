{
 "cells": [
  {
   "cell_type": "markdown",
   "metadata": {},
   "source": [
    "# Assignment 1: Regular Expressions\n",
    "\n",
    "This assignment contains solutions to problems requiring string manipulation without using regular expression libraries. Each problem includes a function to solve the problem, a sample input, and an explanation of the solution.\n",
    "\n",
    "---\n",
    "\n",
    "## Problem 1: Extracting Domain Names from URLs\n"
   ]
  },
  {
   "cell_type": "code",
   "execution_count": 1,
   "metadata": {},
   "outputs": [
    {
     "name": "stdout",
     "output_type": "stream",
     "text": [
      "['example.com', 'subdomain.example.co.uk', 'test-site.org', 'example.net']\n"
     ]
    }
   ],
   "source": [
    "# Solution: Extracting domain names from URLs\n",
    "def extract_domain(urls):\n",
    "    domains = []\n",
    "    for url in urls:\n",
    "        # Remove prefixes like 'http://', 'https://', 'www.' if they exist\n",
    "        if url.startswith('http://'):\n",
    "            url = url[7:]\n",
    "        elif url.startswith('https://'):\n",
    "            url = url[8:]\n",
    "        if url.startswith('www.'):\n",
    "            url = url[4:]\n",
    "        \n",
    "        # Extract domain by taking characters until the first '/'\n",
    "        domain = \"\"\n",
    "        for char in url:\n",
    "            if char == \"/\":\n",
    "                break\n",
    "            domain += char\n",
    "        domains.append(domain)\n",
    "    return domains\n",
    "\n",
    "# Sample list of URLs\n",
    "urls = [\n",
    "    \"https://www.example.com/path/to/page\",\n",
    "    \"http://subdomain.example.co.uk\",\n",
    "    \"www.test-site.org\",\n",
    "    \"example.net\"\n",
    "]\n",
    "\n",
    "# Run the function and print the output\n",
    "print(extract_domain(urls))\n"
   ]
  },
  {
   "cell_type": "markdown",
   "metadata": {},
   "source": [
    "### Explanation:\n",
    "1. We strip common prefixes (`http://`, `https://`, `www.`) if they are present.\n",
    "2. Then, we build the domain by collecting characters until a `/` is encountered or the URL ends.\n",
    "3. The function adds each extracted domain to a list for output.\n",
    "---\n",
    "\n",
    "## Problem 2: Extract and Format Dates\n"
   ]
  },
  {
   "cell_type": "code",
   "execution_count": 2,
   "metadata": {},
   "outputs": [
    {
     "name": "stdout",
     "output_type": "stream",
     "text": [
      "2024-10-23 2024-10-23 2024-23-10\n"
     ]
    }
   ],
   "source": [
    "# Solution: Extract and format dates in 'YYYY-MM-DD' format\n",
    "def format_dates(text):\n",
    "    dates = []\n",
    "    i = 0\n",
    "    while i < len(text):\n",
    "        # Detect date formats like YYYY/MM/DD or YYYY-MM-DD\n",
    "        if i + 9 < len(text) and text[i:i+4].isdigit() and text[i+4] in ['/', '-'] and text[i+5:i+7].isdigit():\n",
    "            year = text[i:i+4]\n",
    "            month = text[i+5:i+7]\n",
    "            day = text[i+8:i+10]\n",
    "            dates.append(f\"{year}-{month}-{day}\")\n",
    "            i += 10\n",
    "        # Detect date formats like DD/MM/YYYY or DD-MM-YYYY\n",
    "        elif i + 9 < len(text) and text[i:i+2].isdigit() and text[i+2] in ['/', '-'] and text[i+3:i+5].isdigit():\n",
    "            day = text[i:i+2]\n",
    "            month = text[i+3:i+5]\n",
    "            year = text[i+6:i+10]\n",
    "            dates.append(f\"{year}-{month}-{day}\")\n",
    "            i += 10\n",
    "        else:\n",
    "            i += 1\n",
    "    return \" \".join(dates)\n",
    "\n",
    "# Example text with dates\n",
    "text = \"Today's date is 2024/10/23. Another date is 23-10-2024. Or even 10/23/2024.\"\n",
    "\n",
    "# Run the function and print the output\n",
    "print(format_dates(text))\n"
   ]
  },
  {
   "cell_type": "markdown",
   "metadata": {},
   "source": [
    "### Explanation:\n",
    "1. We check for date patterns by verifying positions of digits and separators (`/` or `-`).\n",
    "2. We convert formats like `YYYY/MM/DD`, `DD-MM-YYYY`, and `MM/DD/YYYY` to `YYYY-MM-DD`.\n",
    "3. The function returns all extracted dates in the new format.\n",
    "---\n",
    "\n",
    "## Problem 3: Extract Prices from Descriptions\n"
   ]
  },
  {
   "cell_type": "code",
   "execution_count": 3,
   "metadata": {},
   "outputs": [
    {
     "name": "stdout",
     "output_type": "stream",
     "text": [
      "['$100.', '€50.', '¥5000.']\n"
     ]
    }
   ],
   "source": [
    "# Solution: Extract prices from text\n",
    "def extract_prices(text):\n",
    "    prices = []\n",
    "    i = 0\n",
    "    while i < len(text):\n",
    "        # Look for currency symbols and collect following numeric characters\n",
    "        if text[i] in ['$','€','¥']:\n",
    "            price = text[i]\n",
    "            i += 1\n",
    "            if i < len(text) and text[i] == ' ':\n",
    "                i += 1\n",
    "            while i < len(text) and (text[i].isdigit() or text[i] in ',.'):\n",
    "                price += text[i]\n",
    "                i += 1\n",
    "            prices.append(price)\n",
    "        else:\n",
    "            i += 1\n",
    "    return prices\n",
    "\n",
    "# Example product descriptions\n",
    "text = \"The price of the item is $100. Another item costs €50. You can also buy it for ¥5000.\"\n",
    "\n",
    "# Run the function and print the output\n",
    "print(extract_prices(text))\n"
   ]
  },
  {
   "cell_type": "markdown",
   "metadata": {},
   "source": [
    "### Explanation:\n",
    "1. We scan for symbols (`$`, `€`, `¥`) and add following digits, including commas and periods.\n",
    "2. Each price is appended to a list.\n",
    "3. This function handles different currencies and number formats.\n",
    "---\n",
    "\n",
    "## Problem 4: Extract Hyperlinks from HTML `<a>` Tags\n"
   ]
  },
  {
   "cell_type": "code",
   "execution_count": 4,
   "metadata": {},
   "outputs": [
    {
     "name": "stdout",
     "output_type": "stream",
     "text": [
      "['https://www.example.com', 'http://test-site.org', 'https://google.com']\n"
     ]
    }
   ],
   "source": [
    "# Solution: Extract URLs from HTML `<a>` tags\n",
    "def extract_links(html):\n",
    "    links = []\n",
    "    i = 0\n",
    "    while i < len(html):\n",
    "        if html[i:i+2] == '<a' and 'href' in html[i:i+10]:\n",
    "            href_pos = html.find('href=', i)\n",
    "            if href_pos != -1:\n",
    "                quote_char = html[href_pos+5]\n",
    "                if quote_char in ['\"', \"'\"]:\n",
    "                    end_quote = html.find(quote_char, href_pos+6)\n",
    "                    url = html[href_pos+6:end_quote]\n",
    "                    links.append(url)\n",
    "                    i = end_quote\n",
    "                else:\n",
    "                    end_space = html.find(' ', href_pos+5)\n",
    "                    end_tag = html.find('>', href_pos+5)\n",
    "                    end_pos = min(end_space, end_tag) if end_space != -1 else end_tag\n",
    "                    url = html[href_pos+5:end_pos]\n",
    "                    links.append(url)\n",
    "                    i = end_pos\n",
    "        else:\n",
    "            i += 1\n",
    "    return links\n",
    "\n",
    "# Example HTML code\n",
    "html = '''\n",
    "<a href=\"https://www.example.com\">Example</a>\n",
    "<a href='http://test-site.org'>Test</a>\n",
    "<a href=https://google.com>Google</a>\n",
    "'''\n",
    "\n",
    "# Run the function and print the output\n",
    "print(extract_links(html))\n"
   ]
  },
  {
   "cell_type": "markdown",
   "metadata": {},
   "source": [
    "### Explanation:\n",
    "1. We identify `<a>` tags and extract the `href` attribute.\n",
    "2. Handles quotes around URLs (`\"`, `'`) and cases without quotes.\n",
    "3. Adds each URL to a list and outputs the list.\n",
    "---\n",
    "\n",
    "## Problem 5: Correct Common Spelling Mistakes\n"
   ]
  },
  {
   "cell_type": "code",
   "execution_count": 5,
   "metadata": {},
   "outputs": [
    {
     "name": "stdout",
     "output_type": "stream",
     "text": [
      "I the book. She receive the letter. An error occured.\n"
     ]
    }
   ],
   "source": [
    "# Solution: Detect and correct spelling mistakes \n",
    "def correct_spelling(text):\n",
    "    corrections = {\n",
    "        'teh': 'the',\n",
    "        'recieve': 'receive',\n",
    "        'occured': 'occurred'\n",
    "    }\n",
    "    words = text.split()\n",
    "    for i in range(len(words)):\n",
    "        if words[i] in corrections:\n",
    "            words[i] = corrections[words[i]]\n",
    "    return \" \".join(words)\n",
    "\n",
    "# Example text with spelling mistakes\n",
    "text = \"I teh book. She recieve the letter. An error occured.\"\n",
    "\n",
    "# Run the function and print the output\n",
    "print(correct_spelling(text))\n"
   ]
  },
  {
   "cell_type": "markdown",
   "metadata": {},
   "source": [
    "### Explanation:\n",
    "1. The function checks each word in the text for common misspellings.\n",
    "2. It replaces incorrect words with the correct spelling, based on a predefined dictionary.\n",
    "---\n",
    "\n",
    "## Problem 6: Extract Street Addresses\n"
   ]
  },
  {
   "cell_type": "code",
   "execution_count": 6,
   "metadata": {},
   "outputs": [
    {
     "name": "stdout",
     "output_type": "stream",
     "text": [
      "['123 Main St', '4B or to 456 Elm Avenue', '12.']\n"
     ]
    }
   ],
   "source": [
    "# Solution: Extract street addresses from text \n",
    "def extract_addresses(text):\n",
    "    addresses = []\n",
    "    i = 0\n",
    "    while i < len(text):\n",
    "        if text[i].isdigit():\n",
    "            start = i\n",
    "            while i < len(text) and text[i] != ',':\n",
    "                i += 1\n",
    "            address = text[start:i]\n",
    "            addresses.append(address)\n",
    "        i += 1\n",
    "    return addresses\n",
    "\n",
    "# Example text with addresses\n",
    "text = \"Send the package to 123 Main St, Apt 4B or to 456 Elm Avenue, Suite 12.\"\n",
    "\n",
    "# Run the function and print the output\n",
    "print(extract_addresses(text))\n"
   ]
  },
  {
   "cell_type": "markdown",
   "metadata": {},
   "source": [
    "### Explanation:\n",
    "1. We detect addresses by looking for numbers followed by street names.\n",
    "2. Each address is captured until a comma or the end of the street name.\n",
    "---\n",
    "\n",
    "## Problem 7: Extract Hexadecimal Color Codes from CSS\n"
   ]
  },
  {
   "cell_type": "code",
   "execution_count": 7,
   "metadata": {},
   "outputs": [
    {
     "name": "stdout",
     "output_type": "stream",
     "text": [
      "['#FFAABB', '#123']\n"
     ]
    }
   ],
   "source": [
    "# Solution: Extract hex color codes from CSS \n",
    "def extract_hex_colors(css):\n",
    "    hex_colors = []\n",
    "    i = 0\n",
    "    while i < len(css):\n",
    "        if css[i] == '#':\n",
    "            color_code = css[i]\n",
    "            i += 1\n",
    "            while i < len(css) and len(color_code) <= 7 and css[i] in '0123456789ABCDEFabcdef':\n",
    "                color_code += css[i]\n",
    "                i += 1\n",
    "            if len(color_code) == 4 or len(color_code) == 7:\n",
    "                hex_colors.append(color_code)\n",
    "        i += 1\n",
    "    return hex_colors\n",
    "\n",
    "# Example CSS stylesheet\n",
    "css = \"body { background-color: #FFAABB; } h1 { color: #123; }\"\n",
    "\n",
    "# Run the function and print the output\n",
    "print(extract_hex_colors(css))\n"
   ]
  },
  {
   "cell_type": "markdown",
   "metadata": {},
   "source": [
    "### Explanation:\n",
    "1. We detect color codes starting with `#`, followed by up to 6 valid hex characters.\n",
    "2. Supports both shorthand (`#123`) and full (`#FFAABB`) formats.\n",
    "\n",
    "---\n"
   ]
  }
 ],
 "metadata": {
  "kernelspec": {
   "display_name": "Python 3",
   "language": "python",
   "name": "python3"
  },
  "language_info": {
   "codemirror_mode": {
    "name": "ipython",
    "version": 3
   },
   "file_extension": ".py",
   "mimetype": "text/x-python",
   "name": "python",
   "nbconvert_exporter": "python",
   "pygments_lexer": "ipython3",
   "version": "3.12.5"
  }
 },
 "nbformat": 4,
 "nbformat_minor": 2
}
